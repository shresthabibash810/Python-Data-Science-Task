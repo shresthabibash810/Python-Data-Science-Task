{
 "cells": [
  {
   "cell_type": "markdown",
   "id": "7b7f8f1f",
   "metadata": {},
   "source": [
    "### Question 1"
   ]
  },
  {
   "cell_type": "markdown",
   "id": "8ba1a94b",
   "metadata": {},
   "source": [
    "### >> Before you proceed:"
   ]
  },
  {
   "cell_type": "markdown",
   "id": "2fc1c043",
   "metadata": {},
   "source": [
    "You could just work with the included `account.py` file, and skip this Notebook entirely if you wish to do so. This Notebook is just a repetition of the `account.py` file, and is laid out in a step-by-step way to make it easy for you to get started with."
   ]
  },
  {
   "cell_type": "markdown",
   "id": "312a2623",
   "metadata": {},
   "source": [
    "### Since you've decided to continue ..."
   ]
  },
  {
   "cell_type": "markdown",
   "id": "c7f73a09",
   "metadata": {},
   "source": [
    "### >> STEP 0:"
   ]
  },
  {
   "cell_type": "markdown",
   "id": "a82e5584",
   "metadata": {},
   "source": [
    "### Take a deep breath! Getting some things ready for you. Just run the cell below, and sit back and relax!"
   ]
  },
  {
   "cell_type": "code",
   "execution_count": null,
   "id": "01497d85",
   "metadata": {},
   "outputs": [],
   "source": [
    "import utils\n",
    "utils.setup()"
   ]
  },
  {
   "cell_type": "markdown",
   "id": "a5f969f6",
   "metadata": {},
   "source": [
    "###  ------- YOUR WORK STARTS HERE -------"
   ]
  },
  {
   "cell_type": "markdown",
   "id": "80a5f85d",
   "metadata": {},
   "source": [
    "### >> STEP 1:"
   ]
  },
  {
   "cell_type": "markdown",
   "id": "0b6121f6",
   "metadata": {},
   "source": [
    "### Please complete the appropriate methods (`deposit`, `withdraw`, `transfer_funds`) in the `Account` class given below."
   ]
  },
  {
   "cell_type": "code",
   "execution_count": null,
   "id": "7a1633b9",
   "metadata": {},
   "outputs": [],
   "source": [
    "import wallet\n",
    "import csv\n",
    "\n",
    "TRANSACTION_RECORDS = 'account_transactions.csv'\n",
    "USER_RECORDS = 'user_records.csv'\n",
    "\n",
    "\n",
    "class Account:\n",
    "\n",
    "    ''' This class provides multiple functionalities for a pre-existing user account. A UserID, and a transaction account is first needed to be able use this \n",
    "    class. The User ID can be generated from the Customer class, and the transacion account can be created using the NewAccount class.\n",
    "\n",
    "    Usage:\n",
    "        uid = 1001\n",
    "        account_number = 3330000407 (optional)\n",
    "        myaccount = Account(uid,account_number)\n",
    "\n",
    "    Returns:\n",
    "        An account object with functions to view details, deposit, withdraw, and transfer money.\n",
    "\n",
    "    Example 1 (passing both UID and Account number):\n",
    "\n",
    "        myaccount = Account(1001, 3330000407)\n",
    "\n",
    "        myaccount.deposit(100)\n",
    "        > Deposits money (Rs. 100) to account number 1001.\n",
    "\n",
    "        myaccount.withdraw(50)\n",
    "        > Withdraws money (Rs. 50) from account number 1001.\n",
    "\n",
    "\n",
    "    Example 2 (without passing in the Account number):\n",
    "\n",
    "        youraccount = newAccount(1002)\n",
    "\n",
    "        youraccount.deposit(100)\n",
    "        youraccount.view_balance()\n",
    "        youraccount.view_account_details()\n",
    "\n",
    "    '''\n",
    "\n",
    "    _attributes = (\"UID\", \"Account Number\", \"Balance\")\n",
    "\n",
    "    def __init__(self, usr_id, acc_number=None):\n",
    "\n",
    "        self.usr_id = usr_id\n",
    "        self.acc_number = acc_number\n",
    "        if self.acc_number is None:\n",
    "            self.acc_number = self._get_account_number()\n",
    "\n",
    "    def _get_account_number(self, uid=None):\n",
    "\n",
    "        if not uid:\n",
    "            uid = self.usr_id\n",
    "        with open(TRANSACTION_RECORDS, 'r') as file:\n",
    "            reader = csv.reader(file)\n",
    "            next(reader)\n",
    "            for row in reader:\n",
    "                if row:\n",
    "                    if int(row[0]) == int(uid):\n",
    "                        return row[1]\n",
    "        print(\"Account not found. Please create a new account using the newAccount option.\")\n",
    "\n",
    "    def view_account_details(self):\n",
    "\n",
    "        with open(TRANSACTION_RECORDS, 'r') as file:\n",
    "            reader = csv.reader(file)\n",
    "            next(reader)\n",
    "            for row in reader:\n",
    "                if row:\n",
    "                    if int(row[0]) == int(self.usr_id):\n",
    "                        details = dict(zip(self._attributes[1:], row[1:]))\n",
    "\n",
    "        for keys, values in details.items():\n",
    "            print(\"{} : {}\".format(keys, values))\n",
    "\n",
    "    def view_balance(self, uid=None):\n",
    "\n",
    "        if not uid:\n",
    "            uid = self.usr_id\n",
    "\n",
    "        with open(TRANSACTION_RECORDS, 'r') as file:\n",
    "            reader = csv.reader(file)\n",
    "            next(reader)\n",
    "            for row in reader:\n",
    "                if row:\n",
    "                    if int(row[0]) == int(uid):\n",
    "                        return row[2]\n",
    "        print(\"Error occurred. Please contact support.\")\n",
    "\n",
    "\n",
    "    def deposit(self, amount):\n",
    "        '''Please complete this method. Your method should:\n",
    "        1. Accept a single numeric value 'amount'.\n",
    "        2. Update the TRANSACTION RECORDS file by adding the given 'amount' to existing amount for the current user object.\n",
    "        3. The function need not return anything, or a simple confirmation (success/failure) if you wish to.\n",
    "\n",
    "        NOTE: You can modify your function to accept other input arguments as well, but remember that the current test needs to be\n",
    "        modified as well if you choose to do so.\n",
    "        '''\n",
    "        print(\"\\nThe 'deposit' method in the 'Account' class needs to be completed to pass this step in the test and proceed to next step!!\\n\")\n",
    "\n",
    "    def withdraw(self, amount):\n",
    "        '''Please complete this method. Your method should:\n",
    "        1. Accept a single numeric value 'amount'.\n",
    "        2. Check if the required balance is available in the TRANSACTION RECORDS file for the current user.\n",
    "        3. If condition 2 is satisfied, update the TRANSACTION RECORDS file to deduct the given 'amount' from existing amount \n",
    "        for the current user object.\n",
    "        4. The function need not return anything, or a simple confirmation (success/failure) if you wish to.\n",
    "\n",
    "        NOTE: You can modify your function to accept other input arguments as well, but remember that the current test needs to be\n",
    "        modified as well if you choose to do so.\n",
    "        '''\n",
    "        print(\"\\nThe 'withdraw' method in the 'Account' class needs to be completed to pass this step in the test and proceed to next step!!\\n\")\n",
    "\n",
    "    def transfer_funds(self, uid, amount):\n",
    "        '''Please complete this method. Your method should: \n",
    "        1. Accept two values, a. first value - the 4 digit user id to which you want the funds transferred to, b. second value - numeric \n",
    "        value representing the 'amount' that you want to transfer.\n",
    "        2. Check if the 4 digit user id actually exists in the TRANSACTION RECORDS file. (RECEIVER)\n",
    "        3. Check if the required balance is available in the TRANSACTION RECORDS file for the current user. (SENDER)\n",
    "        4. If condition 2 and 3 is satisfied, update the TRANSACTION RECORDS file to deduct the given 'amount' from existing amount \n",
    "        for the current user object (SENDER).\n",
    "        5. Update the TRANSACTION RECORDS file by adding the given 'amount' to existing amount for the given user id (RECEIVER).\n",
    "        6. The function need not return anything, or a simple confirmation (success/failure) if you wish to.\n",
    "\n",
    "        NOTE: You can modify your function to accept other input arguments as well, but remember that the current test needs to be\n",
    "        modified as well if you choose to do so.\n",
    "\n",
    "        '''\n",
    "        print(\"\\nThe 'transfer_funds' method in the 'Account' class needs to be completed to pass the test!!\\n\")\n"
   ]
  },
  {
   "cell_type": "markdown",
   "id": "c8e2a8b2",
   "metadata": {},
   "source": [
    "Now that you've completed the main part, let us see if everything works as intended!!"
   ]
  },
  {
   "cell_type": "markdown",
   "id": "0851ac14",
   "metadata": {},
   "source": [
    "### >> STEP 2: "
   ]
  },
  {
   "cell_type": "markdown",
   "id": "b0aa2c76",
   "metadata": {},
   "source": [
    "### Create simple objects and test your methods to verify if they work as desired. "
   ]
  },
  {
   "cell_type": "code",
   "execution_count": null,
   "id": "e73fc3b4",
   "metadata": {},
   "outputs": [],
   "source": [
    "test_user = wallet.Customer(1001)"
   ]
  },
  {
   "cell_type": "code",
   "execution_count": null,
   "id": "56e3520d",
   "metadata": {},
   "outputs": [],
   "source": [
    "test_user.view_profile()"
   ]
  },
  {
   "cell_type": "code",
   "execution_count": null,
   "id": "920c499d",
   "metadata": {},
   "outputs": [],
   "source": [
    "test_user.usr_id"
   ]
  },
  {
   "cell_type": "code",
   "execution_count": null,
   "id": "1be5c0e0",
   "metadata": {},
   "outputs": [],
   "source": [
    "test_account = Account(test_user.usr_id)"
   ]
  },
  {
   "cell_type": "code",
   "execution_count": null,
   "id": "cd2fed35",
   "metadata": {},
   "outputs": [],
   "source": [
    "test_account.acc_number"
   ]
  },
  {
   "cell_type": "code",
   "execution_count": null,
   "id": "cb127d1e",
   "metadata": {},
   "outputs": [],
   "source": [
    "test_account.view_account_details()"
   ]
  },
  {
   "cell_type": "code",
   "execution_count": null,
   "id": "3e50959a",
   "metadata": {},
   "outputs": [],
   "source": [
    "test_account.view_balance()"
   ]
  },
  {
   "cell_type": "markdown",
   "id": "90700ac2",
   "metadata": {},
   "source": [
    "#### Checking the methods that you've implemented ..."
   ]
  },
  {
   "cell_type": "code",
   "execution_count": null,
   "id": "71e39fb4",
   "metadata": {},
   "outputs": [],
   "source": [
    "test_account.deposit(700)  # This method should deposit Rs 700 to test_account once you complete your code"
   ]
  },
  {
   "cell_type": "code",
   "execution_count": null,
   "id": "e66bf301",
   "metadata": {},
   "outputs": [],
   "source": [
    "test_account.withdraw(350) # This method should withdraw Rs 350 from test_account once you complete your code"
   ]
  },
  {
   "cell_type": "code",
   "execution_count": null,
   "id": "fa014b35",
   "metadata": {},
   "outputs": [],
   "source": [
    "test_account.transfer_funds(1003, 747) # This method should transfer Rs 747 from test_account to user account with UID: 1003 once you complete your code"
   ]
  },
  {
   "cell_type": "markdown",
   "id": "e8b8fe62",
   "metadata": {},
   "source": [
    "### >> STEP 3:"
   ]
  },
  {
   "cell_type": "markdown",
   "id": "4bbf81de",
   "metadata": {},
   "source": [
    "#### Once you complete the methods in STEP 1, you can copy and paste the entire content of the above cell (STEP 1 only) to the included `account.py` python file (replacing the already existing content of the `account.py` script entirely)."
   ]
  },
  {
   "cell_type": "markdown",
   "id": "97006459",
   "metadata": {},
   "source": [
    "### >> STEP 4:"
   ]
  },
  {
   "cell_type": "markdown",
   "id": "7c9c9811",
   "metadata": {},
   "source": [
    "### Now import and run the `runtest ` method from `utils.py` file to see if everything works as intended (as shown below)."
   ]
  },
  {
   "cell_type": "code",
   "execution_count": null,
   "id": "48375bbd",
   "metadata": {},
   "outputs": [],
   "source": [
    "import utils\n",
    "utils.runtest()"
   ]
  },
  {
   "cell_type": "markdown",
   "id": "4081fd58",
   "metadata": {},
   "source": [
    "### If everything runs fine, you should see a message along the lines of : `Preliminary tests ran successfully!!`"
   ]
  },
  {
   "cell_type": "markdown",
   "id": "69fcb8a1",
   "metadata": {},
   "source": [
    "###  ------- END OF TASK 1 -------"
   ]
  }
 ],
 "metadata": {
  "kernelspec": {
   "display_name": "Python 3 (ipykernel)",
   "language": "python",
   "name": "python3"
  },
  "language_info": {
   "codemirror_mode": {
    "name": "ipython",
    "version": 3
   },
   "file_extension": ".py",
   "mimetype": "text/x-python",
   "name": "python",
   "nbconvert_exporter": "python",
   "pygments_lexer": "ipython3",
   "version": "3.9.7"
  }
 },
 "nbformat": 4,
 "nbformat_minor": 5
}
